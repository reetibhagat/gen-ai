{
 "cells": [
  {
   "cell_type": "code",
   "execution_count": null,
   "id": "c914944b",
   "metadata": {},
   "outputs": [],
   "source": [
    "\"Building a Structured E-Commerce Assistant Using Groq LLM, LangChain, and Pydantic\""
   ]
  },
  {
   "cell_type": "code",
   "execution_count": 1,
   "id": "a6026708",
   "metadata": {},
   "outputs": [
    {
     "data": {
      "text/plain": [
       "True"
      ]
     },
     "execution_count": 1,
     "metadata": {},
     "output_type": "execute_result"
    }
   ],
   "source": [
    "import os\n",
    "from dotenv import load_dotenv\n",
    "load_dotenv()\n"
   ]
  },
  {
   "cell_type": "code",
   "execution_count": 2,
   "id": "134fee34",
   "metadata": {},
   "outputs": [],
   "source": [
    "import os\n",
    "os.environ[\"GROQ_API_KEY\"]=os.getenv(\"GROQ_API_KEY\")\n"
   ]
  },
  {
   "cell_type": "code",
   "execution_count": 3,
   "id": "4f90d6eb",
   "metadata": {},
   "outputs": [
    {
     "name": "stderr",
     "output_type": "stream",
     "text": [
      "/var/folders/83/srl81_4n5rd_qjvvzp5gjzk00000gp/T/ipykernel_19376/2681281555.py:49: LangChainDeprecationWarning: The class `LLMChain` was deprecated in LangChain 0.1.17 and will be removed in 1.0. Use :meth:`~RunnableSequence, e.g., `prompt | llm`` instead.\n",
      "  chain = LLMChain(llm=llm, prompt=prompt_with_parser, output_parser=parser)\n",
      "/var/folders/83/srl81_4n5rd_qjvvzp5gjzk00000gp/T/ipykernel_19376/2681281555.py:53: LangChainDeprecationWarning: The method `Chain.run` was deprecated in langchain 0.1.0 and will be removed in 1.0. Use :meth:`~invoke` instead.\n",
      "  result = chain.run(user_question=question)\n"
     ]
    },
    {
     "name": "stdout",
     "output_type": "stream",
     "text": [
      "product_name='Bose QuietComfort Headphones' product_details='Advanced noise-cancelling headphones with comfortable design and long battery life' price_usd=349.95\n"
     ]
    }
   ],
   "source": [
    "from pydantic import BaseModel, Field\n",
    "from typing import Union\n",
    "from langchain.prompts import ChatPromptTemplate, HumanMessagePromptTemplate\n",
    "from langchain.output_parsers import PydanticOutputParser\n",
    "from langchain.chains import LLMChain\n",
    "from langchain_groq import ChatGroq\n",
    "\n",
    "import os\n",
    "\n",
    "\n",
    "\n",
    "# Define structured output\n",
    "class ProductInfo(BaseModel):\n",
    "    product_name: str = Field(..., description=\"Name of the e-commerce product\")\n",
    "    product_details: str = Field(..., description=\"Short details about the product\")\n",
    "    price_usd: Union[int, float] = Field(..., description=\"Tentative price in USD\")\n",
    "\n",
    "# Output parser\n",
    "parser = PydanticOutputParser(pydantic_object=ProductInfo)\n",
    "\n",
    "# Prompt template\n",
    "chat_prompt = ChatPromptTemplate.from_messages([\n",
    "    (\"system\", \"You are an intelligent e-commerce assistant.\"),\n",
    "    HumanMessagePromptTemplate.from_template(\n",
    "        \"\"\"\n",
    "Given a user question about a product, extract the following fields:\n",
    "- product_name\n",
    "- product_details\n",
    "- price_usd\n",
    "\n",
    "Respond in the following JSON format:\n",
    "{format_instructions}\n",
    "\n",
    "Question: {user_question}\n",
    "        \"\"\"\n",
    "    )\n",
    "])\n",
    "\n",
    "prompt_with_parser = chat_prompt.partial(format_instructions=parser.get_format_instructions())\n",
    "\n",
    "# Use Groq model\n",
    "llm = ChatGroq(\n",
    "    model_name=\"llama3-8b-8192\",\n",
    "    temperature=0,\n",
    "    groq_api_key=os.environ[\"GROQ_API_KEY\"]\n",
    ")\n",
    "\n",
    "# Create chain\n",
    "chain = LLMChain(llm=llm, prompt=prompt_with_parser, output_parser=parser)\n",
    "\n",
    "# Example question\n",
    "question = \"Tell me about the Bose QuietComfort headphones and their price.\"\n",
    "result = chain.run(user_question=question)\n",
    "\n",
    "print(result)\n"
   ]
  },
  {
   "cell_type": "code",
   "execution_count": 4,
   "id": "4ce0d651",
   "metadata": {},
   "outputs": [
    {
     "name": "stdout",
     "output_type": "stream",
     "text": [
      "product_name='Sony WH-1000XM5 Headphones' product_details='Industry-leading noise cancellation and exceptional sound quality' price_usd=350.0\n"
     ]
    }
   ],
   "source": [
    "result = chain.run(user_question=\"Tell me about Sony WH‑1000XM5 headphones and their price.\")\n",
    "print(result)\n"
   ]
  }
 ],
 "metadata": {
  "kernelspec": {
   "display_name": "Python 3",
   "language": "python",
   "name": "python3"
  },
  "language_info": {
   "codemirror_mode": {
    "name": "ipython",
    "version": 3
   },
   "file_extension": ".py",
   "mimetype": "text/x-python",
   "name": "python",
   "nbconvert_exporter": "python",
   "pygments_lexer": "ipython3",
   "version": "3.13.3"
  }
 },
 "nbformat": 4,
 "nbformat_minor": 5
}
